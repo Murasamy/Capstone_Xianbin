{
 "cells": [
  {
   "cell_type": "code",
   "execution_count": 18,
   "metadata": {},
   "outputs": [],
   "source": [
    "import torch\n",
    "import torch.optim as optim\n",
    "import torch.nn as nn\n",
    "import model\n",
    "import torchvision.transforms as transforms\n",
    "import torchvision\n",
    "import matplotlib\n",
    "import numpy as np\n",
    "import pandas as pd\n",
    "# import matplotlib.pyplot as plt\n",
    "import pickle as pk\n",
    "from torch.utils.data import DataLoader, Dataset\n",
    "from torchvision.utils import make_grid\n",
    "from engine import train, validate\n",
    "from dataclasses import dataclass, field\n",
    "from utils import save_reconstructed_images, save_true_images, save_input_images, save_cat_images, image_to_vid, save_loss_plot\n",
    "from making_chart_peiyang import generate_pk\n",
    "import os\n",
    "import warnings\n",
    "import re # for regular expression\n",
    "warnings.filterwarnings(\"ignore\")\n"
   ]
  },
  {
   "cell_type": "code",
   "execution_count": 7,
   "metadata": {},
   "outputs": [],
   "source": [
    "matplotlib.style.use('ggplot')\n",
    "device = torch.device('cuda' if torch.cuda.is_available() else 'cpu')\n"
   ]
  },
  {
   "cell_type": "code",
   "execution_count": 8,
   "metadata": {},
   "outputs": [],
   "source": [
    "## initialize the model\n",
    "## a model requires input image shape [w, h], and output image shape [w, h]\n",
    "model = model.ConvVAE([64, 60], [64, 75]).to(device) \n",
    "## set the learning parameters\n",
    "lr = 0.001\n",
    "epochs = 10\n",
    "batch_size = 1\n",
    "optimizer = optim.Adam(model.parameters(), lr=lr)\n",
    "# criterion = nn.BCELoss(reduction='sum')\n",
    "criterion = nn.MSELoss(reduction='sum')\n",
    "# a list to save all the reconstructed images in PyTorch grid format\n",
    "grid_images = [] #generating the gif of the outputs\n",
    "\n",
    "## loading data \n",
    "# symbols = [\"601857\", \"600028\"]\n",
    "\n",
    "years = range(2008, 2022)"
   ]
  },
  {
   "cell_type": "code",
   "execution_count": 9,
   "metadata": {},
   "outputs": [],
   "source": [
    "imgs = []\n",
    "labels = []"
   ]
  },
  {
   "cell_type": "code",
   "execution_count": 25,
   "metadata": {},
   "outputs": [
    {
     "name": "stdout",
     "output_type": "stream",
     "text": [
      "hi there\n",
      "hi there\n",
      "hi there\n"
     ]
    }
   ],
   "source": [
    "dirPath = \"./data/\"\n",
    "# read SSE50.txt\n",
    "f = open(\"SSE50.txt\", \"r\")\n",
    "symbols = f.read().splitlines()[:3]\n",
    "f.close()\n",
    "# symbols = symbols[1:]\n",
    "# symbols\n",
    "path_dir = \"../data/\"\n",
    "for symbol in symbols:\n",
    "    # path = f\"{path_dir}{symbol}.SH.CSV\"\n",
    "    # or path = f\"{path_dir}{symbol}.SZ.CSV\"\n",
    "    # regular expression or ether \"SH\" or \"SZ\"\n",
    "    re = re.compile(r\"SH|SZ\")\n",
    "    path = f\"{path_dir}{symbol}.{re}.CSV\"\n",
    "    imgsTemp, labelsTemp = generate_pk(path)\n",
    "    # example = pd.read_csv(f\"{path_dir}{symbol}.SH.CSV\")\n",
    "    "
   ]
  },
  {
   "cell_type": "code",
   "execution_count": 10,
   "metadata": {},
   "outputs": [
    {
     "name": "stdout",
     "output_type": "stream",
     "text": [
      "hi there\n"
     ]
    }
   ],
   "source": [
    "one_imgs, one_labels = generate_pk(\"../data/000001.SZ.CSV\")"
   ]
  },
  {
   "cell_type": "code",
   "execution_count": 12,
   "metadata": {},
   "outputs": [
    {
     "name": "stdout",
     "output_type": "stream",
     "text": [
      "875\n",
      "875\n"
     ]
    }
   ],
   "source": [
    "print(len(one_imgs))\n",
    "print(len(one_labels))"
   ]
  }
 ],
 "metadata": {
  "kernelspec": {
   "display_name": "Python 3",
   "language": "python",
   "name": "python3"
  },
  "language_info": {
   "codemirror_mode": {
    "name": "ipython",
    "version": 3
   },
   "file_extension": ".py",
   "mimetype": "text/x-python",
   "name": "python",
   "nbconvert_exporter": "python",
   "pygments_lexer": "ipython3",
   "version": "3.11.4"
  }
 },
 "nbformat": 4,
 "nbformat_minor": 2
}
